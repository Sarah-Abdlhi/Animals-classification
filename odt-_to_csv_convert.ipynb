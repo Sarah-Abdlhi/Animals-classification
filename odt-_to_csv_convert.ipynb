{
  "nbformat": 4,
  "nbformat_minor": 0,
  "metadata": {
    "colab": {
      "provenance": [],
      "authorship_tag": "ABX9TyMsPnS5NSiyokbArBMypo+f",
      "include_colab_link": true
    },
    "kernelspec": {
      "name": "python3",
      "display_name": "Python 3"
    },
    "language_info": {
      "name": "python"
    }
  },
  "cells": [
    {
      "cell_type": "markdown",
      "metadata": {
        "id": "view-in-github",
        "colab_type": "text"
      },
      "source": [
        "<a href=\"https://colab.research.google.com/github/Sarah-Abdlhi/Animals-classification/blob/main/odt-_to_csv_convert.ipynb\" target=\"_parent\"><img src=\"https://colab.research.google.com/assets/colab-badge.svg\" alt=\"Open In Colab\"/></a>"
      ]
    },
    {
      "cell_type": "code",
      "execution_count": 1,
      "metadata": {
        "colab": {
          "base_uri": "https://localhost:8080/"
        },
        "id": "YQgOXRf-1Kzk",
        "outputId": "624ba85f-3d73-434a-b610-9225d95a76e5"
      },
      "outputs": [
        {
          "output_type": "stream",
          "name": "stdout",
          "text": [
            "Collecting odfpy\n",
            "  Downloading odfpy-1.4.1.tar.gz (717 kB)\n",
            "\u001b[2K     \u001b[90m━━━━━━━━━━━━━━━━━━━━━━━━━━━━━━━━━━━━━━━━\u001b[0m \u001b[32m717.0/717.0 kB\u001b[0m \u001b[31m3.8 MB/s\u001b[0m eta \u001b[36m0:00:00\u001b[0m\n",
            "\u001b[?25h  Preparing metadata (setup.py) ... \u001b[?25l\u001b[?25hdone\n",
            "Requirement already satisfied: defusedxml in /usr/local/lib/python3.10/dist-packages (from odfpy) (0.7.1)\n",
            "Building wheels for collected packages: odfpy\n",
            "  Building wheel for odfpy (setup.py) ... \u001b[?25l\u001b[?25hdone\n",
            "  Created wheel for odfpy: filename=odfpy-1.4.1-py2.py3-none-any.whl size=160672 sha256=2c906ded93c94fb0ae9584cbe00422254bf0c398d1149dffb095181dd4d790b3\n",
            "  Stored in directory: /root/.cache/pip/wheels/c8/2e/95/90d94fe33903786937f3b8c33dd88807f792359c6424b40469\n",
            "Successfully built odfpy\n",
            "Installing collected packages: odfpy\n",
            "Successfully installed odfpy-1.4.1\n"
          ]
        }
      ],
      "source": [
        "!pip install odfpy\n"
      ]
    },
    {
      "cell_type": "code",
      "source": [
        "import csv\n",
        "from odf import text, teletype\n",
        "from odf.opendocument import load\n",
        "\n",
        "def odt_to_csv(odt_file, csv_file):\n",
        "    # Load the ODT file\n",
        "    doc = load(odt_file)\n",
        "\n",
        "    # Open CSV file in write mode\n",
        "    with open(csv_file, 'w', newline='', encoding='utf-8') as csvfile:\n",
        "        csv_writer = csv.writer(csvfile)\n",
        "\n",
        "        # Iterate through each paragraph in the ODT file\n",
        "        for paragraph in doc.getElementsByType(text.P):\n",
        "            # Write each paragraph as a row in the CSV file\n",
        "            csv_writer.writerow([teletype.extractText(paragraph)])\n",
        "\n",
        "# Replace 'input.odt' with the path to your ODT file\n",
        "# Replace 'output.csv' with the desired path for the CSV output\n",
        "odt_to_csv('/content/dirty_dataset.odt', 'output.csv')\n",
        "\n",
        "\n",
        "\n"
      ],
      "metadata": {
        "id": "KuXuF2861S_u"
      },
      "execution_count": 3,
      "outputs": []
    }
  ]
}